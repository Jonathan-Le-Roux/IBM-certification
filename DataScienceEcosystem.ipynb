{
 "cells": [
  {
   "cell_type": "markdown",
   "id": "9539fdab-28c3-400f-aa81-7c7c2bbd68fc",
   "metadata": {},
   "source": [
    "# Data Science Tools and Ecosystem"
   ]
  },
  {
   "cell_type": "markdown",
   "id": "9f4df7ae-78fd-4551-b715-2934795d4723",
   "metadata": {},
   "source": [
    "In this notebook, Data Science Tools and Ecosystem are summarized."
   ]
  },
  {
   "cell_type": "markdown",
   "id": "f51051a2-285b-4c32-8076-5d53952bc62b",
   "metadata": {},
   "source": [
    "Some of the popular languages that Data Scientists use are:\n",
    "1. Python\n",
    "2. R\n",
    "3. SQL"
   ]
  },
  {
   "cell_type": "markdown",
   "id": "d1b3e0d0-ee73-474c-ba98-1c2d0c8b1cff",
   "metadata": {},
   "source": [
    "Some of the commonly used libraries used by Data Scientists include:\n",
    "1. Numpy\n",
    "2. Pandas\n",
    "3. Scikit-Learn"
   ]
  },
  {
   "cell_type": "markdown",
   "id": "3c54a1d5-c59d-4ba3-9ed0-ca6e9c2fa1ca",
   "metadata": {},
   "source": [
    "| Data Science Tools |\n",
    "|--------------------|\n",
    "| Jupyter Notebook   |\n",
    "| RStudio            |\n",
    "| VS Code            |"
   ]
  },
  {
   "cell_type": "markdown",
   "id": "369419c7-a2d1-4dbd-bbd2-dc23cd66629c",
   "metadata": {},
   "source": [
    "### Below are a few examples of evaluating arithmetic expressions in Python"
   ]
  },
  {
   "cell_type": "code",
   "execution_count": 3,
   "id": "72249c64-8642-4915-ae8a-11e1c5331551",
   "metadata": {},
   "outputs": [
    {
     "data": {
      "text/plain": [
       "17"
      ]
     },
     "execution_count": 3,
     "metadata": {},
     "output_type": "execute_result"
    }
   ],
   "source": [
    "#This a simple arithmetic expression to mutiply then add integers\n",
    "(3*4)+5"
   ]
  },
  {
   "cell_type": "code",
   "execution_count": 4,
   "id": "8618ec1b-c617-43d8-b607-ada08b9fd653",
   "metadata": {},
   "outputs": [
    {
     "data": {
      "text/plain": [
       "3.3333333333333335"
      ]
     },
     "execution_count": 4,
     "metadata": {},
     "output_type": "execute_result"
    }
   ],
   "source": [
    "#This will convert 200 minutes to hours by diving by 60\n",
    "200/60"
   ]
  },
  {
   "cell_type": "markdown",
   "id": "6bdb9026-68d4-4ee0-902d-7ddd3bc6491e",
   "metadata": {},
   "source": [
    "Objectives:\n",
    "<br>Listing Popular Data Science languages.\n",
    "<br>Listing Popular Data Science Libraries.\n",
    "<br>Listing Popular Data Science Tools."
   ]
  },
  {
   "cell_type": "markdown",
   "id": "46de4424-e7a7-48b4-9af2-8c78af57247c",
   "metadata": {},
   "source": [
    "## Author\n",
    "Jonathan L"
   ]
  }
 ],
 "metadata": {
  "kernelspec": {
   "display_name": "Python 3.11 (default)",
   "language": "python",
   "name": "python3"
  },
  "language_info": {
   "codemirror_mode": {
    "name": "ipython",
    "version": 3
   },
   "file_extension": ".py",
   "mimetype": "text/x-python",
   "name": "python",
   "nbconvert_exporter": "python",
   "pygments_lexer": "ipython3",
   "version": "3.11.9"
  }
 },
 "nbformat": 4,
 "nbformat_minor": 5
}
